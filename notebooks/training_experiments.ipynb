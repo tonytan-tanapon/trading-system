{
 "cells": [
  {
   "cell_type": "markdown",
   "metadata": {},
   "source": [
    "# Trading Experiments\n",
    "\n",
    "This notebook contains various trading experiments for the Automated Trading System."
   ]
  },
  {
   "cell_type": "code",
   "execution_count": 1,
   "metadata": {},
   "outputs": [],
   "source": [
    "import pandas as pd\n",
    "import numpy as np\n",
    "import matplotlib.pyplot as plt\n",
    "\n",
    "# Load the data\n",
    "data = pd.read_csv('../data/processed_data.csv', parse_dates=['Date'])\n",
    "\n",
    "# Example: Visualize trading signals\n",
    "signals = pd.read_csv('../data/trading_signals.csv', parse_dates=['Date'])\n",
    "\n",
    "plt.figure(figsize=(12, 8))\n",
    "plt.plot(data['Date'], data['Close'], label='Close Price')\n",
    "plt.plot(data['Date'], signals['short_mavg'], label='Short Moving Average')\n",
    "plt.plot(data['Date'], signals['long_mavg'], label='Long Moving Average')\n",
    "\n",
    "# Plot buy signals\n",
    "buy_signals = signals.loc[signals['positions'] == 1.0]\n",
    "plt.plot(buy_signals['Date'], data.loc[buy_signals.index]['Close'], '^', markersize=10, color='g', lw=0, label='Buy Signal')\n",
    "\n",
    "# Plot sell signals\n",
    "sell_signals = signals.loc[signals['positions'] == -1.0]\n",
    "plt.plot(sell_signals['Date'], data.loc[sell_signals.index]['Close'], 'v', markersize=10, color='r', lw=0, label='Sell Signal')\n",
    "\n",
    "plt.title('Trading Strategy Signals')\n",
    "plt.legend()\n",
    "plt.show()"
   ]
  }
 ],
 "metadata": {
  "kernelspec": {
   "display_name": "Python 3",
   "language": "python",
   "name": "python3"
  },
  "language_info": {
   "codemirror_mode": {
    "name": "ipython",
    "version": 3
   },
   "file_extension": ".py",
   "mimetype": "text/x-python",
   "name": "python",
   "nbconvert_exporter": "python",
   "pygments_lexer": "ipython3",
   "version": "3.8.5"
  }
 },
 "nbformat": 4,
 "nbformat_minor": 4
}
